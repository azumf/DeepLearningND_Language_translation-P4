{
 "cells": [
  {
   "cell_type": "markdown",
   "metadata": {
    "collapsed": true
   },
   "source": [
    "# Language Translation\n",
    "In this project, you’re going to take a peek into the realm of neural network machine translation.  You’ll be training a sequence to sequence model on a dataset of English and French sentences that can translate new sentences from English to French.\n",
    "## Data import\n",
    "Since translating the whole language of English to French will take lots of time to train, only a small portion of the English corpus is imported."
   ]
  },
  {
   "cell_type": "code",
   "execution_count": 2,
   "metadata": {},
   "outputs": [],
   "source": [
    "import helper\n",
    "import problem_unittests as tests\n",
    "\n",
    "# Load the data\n",
    "source_path = 'data/small_vocab_en'\n",
    "target_path = 'data/small_vocab_fr'\n",
    "source_text = helper.load_data(source_path)\n",
    "target_text = helper.load_data(target_path)"
   ]
  },
  {
   "cell_type": "markdown",
   "metadata": {},
   "source": [
    "## Data exploration"
   ]
  },
  {
   "cell_type": "code",
   "execution_count": 3,
   "metadata": {},
   "outputs": [
    {
     "name": "stdout",
     "output_type": "stream",
     "text": [
      "Dataset Stats\n",
      "Roughly the number of unique words: 227\n",
      "Number of sentences: 137861\n",
      "Average number of words in a sentence: 13.225277634719028\n",
      "\n",
      "English sentences 10 to 14:\n",
      "the lime is her least liked fruit , but the banana is my least liked .\n",
      "he saw a old yellow truck .\n",
      "india is rainy during june , and it is sometimes warm in november .\n",
      "that cat was my most loved animal .\n",
      "\n",
      "French sentences 10 to 14:\n",
      "la chaux est son moins aimé des fruits , mais la banane est mon moins aimé.\n",
      "il a vu un vieux camion jaune .\n",
      "inde est pluvieux en juin , et il est parfois chaud en novembre .\n",
      "ce chat était mon animal le plus aimé .\n"
     ]
    }
   ],
   "source": [
    "view_sentence_range = (10, 14)\n",
    "\n",
    "import numpy as np\n",
    "\n",
    "print('Dataset Stats')\n",
    "print('Roughly the number of unique words: {}'.format(len({word: None for word in source_text.split()})))\n",
    "\n",
    "sentences = source_text.split('\\n')\n",
    "word_counts = [len(sentence.split()) for sentence in sentences]\n",
    "print('Number of sentences: {}'.format(len(sentences)))\n",
    "print('Average number of words in a sentence: {}'.format(np.average(word_counts)))\n",
    "\n",
    "print()\n",
    "print('English sentences {} to {}:'.format(*view_sentence_range))\n",
    "print('\\n'.join(source_text.split('\\n')[view_sentence_range[0]:view_sentence_range[1]]))\n",
    "print()\n",
    "print('French sentences {} to {}:'.format(*view_sentence_range))\n",
    "print('\\n'.join(target_text.split('\\n')[view_sentence_range[0]:view_sentence_range[1]]))"
   ]
  },
  {
   "cell_type": "markdown",
   "metadata": {},
   "source": [
    "## Preprocessing Function\n",
    "### Text to Word Ids\n",
    "Turn words into ids for processing. After each sentence from `target_text` the id `<EOS>` is added to help the NN to predict when the sentence should end."
   ]
  },
  {
   "cell_type": "code",
   "execution_count": 5,
   "metadata": {},
   "outputs": [
    {
     "name": "stdout",
     "output_type": "stream",
     "text": [
      "Tests Passed\n"
     ]
    }
   ],
   "source": [
    "def text_to_ids(source_text, target_text, source_vocab_to_int, target_vocab_to_int):\n",
    "\n",
    "    # Implement Function\n",
    "    source_sentences = [sentence for sentence in source_text.split('\\n')]\n",
    "    # Add <EOS> at the end of each target sentence\n",
    "    target_sentences = [sentence + ' <EOS>' for sentence in target_text.split('\\n')]\n",
    "    source_id_text= [[source_vocab_to_int[word] for word in sentence.split()] for sentence in source_sentences]\n",
    "    target_id_text = [[target_vocab_to_int[word] for word in sentence.split()] for sentence in target_sentences]\n",
    "    \n",
    "    return source_id_text, target_id_text\n",
    "\n",
    "# Helper: Function test\n",
    "tests.test_text_to_ids(text_to_ids)"
   ]
  },
  {
   "cell_type": "markdown",
   "metadata": {},
   "source": [
    "### Preprocess all the data and save it\n",
    "Preprocess all the data and save it to file with the helper function."
   ]
  },
  {
   "cell_type": "code",
   "execution_count": 6,
   "metadata": {
    "collapsed": true
   },
   "outputs": [],
   "source": [
    "helper.preprocess_and_save_data(source_path, target_path, text_to_ids)"
   ]
  },
  {
   "cell_type": "markdown",
   "metadata": {},
   "source": [
    "# Check Point"
   ]
  },
  {
   "cell_type": "code",
   "execution_count": 7,
   "metadata": {
    "collapsed": true
   },
   "outputs": [],
   "source": [
    "import numpy as np\n",
    "import helper\n",
    "\n",
    "(source_int_text, target_int_text), (source_vocab_to_int, target_vocab_to_int), _ = helper.load_preprocess()"
   ]
  },
  {
   "cell_type": "markdown",
   "metadata": {},
   "source": [
    "### TensorFlow version check and access to GPU"
   ]
  },
  {
   "cell_type": "code",
   "execution_count": 9,
   "metadata": {},
   "outputs": [
    {
     "name": "stdout",
     "output_type": "stream",
     "text": [
      "TensorFlow Version: 1.0.0\n",
      "GPU found! Default GPU Device: /gpu:0\n"
     ]
    }
   ],
   "source": [
    "from distutils.version import LooseVersion\n",
    "import warnings\n",
    "import tensorflow as tf\n",
    "\n",
    "# Check TensorFlow Version\n",
    "assert LooseVersion(tf.__version__) in [LooseVersion('1.0.0'), LooseVersion('1.0.1')], 'This project requires TensorFlow version 1.0  You are using {}'.format(tf.__version__)\n",
    "print('TensorFlow Version: {}'.format(tf.__version__))\n",
    "\n",
    "# Check for a GPU\n",
    "if not tf.test.gpu_device_name():\n",
    "    warnings.warn('No GPU found. Please use a GPU to train your neural network.')\n",
    "else:\n",
    "    print('GPU found! Default GPU Device: {}'.format(tf.test.gpu_device_name()))"
   ]
  },
  {
   "cell_type": "markdown",
   "metadata": {},
   "source": [
    "## Build the Neural Network\n",
    "Build the components necessary to build a Sequence-to-Sequence model by implementing the following functions below:\n",
    "- `model_inputs`\n",
    "- `process_decoding_input`\n",
    "- `encoding_layer`\n",
    "- `decoding_layer_train`\n",
    "- `decoding_layer_infer`\n",
    "- `decoding_layer`\n",
    "- `seq2seq_model`\n",
    "\n",
    "### Input\n",
    "Create TF Placeholders for the Neural Network:\n",
    "\n",
    "- Input text placeholder named \"input\" using the TF Placeholder name parameter with rank 2.\n",
    "- Targets placeholder with rank 2.\n",
    "- Learning rate placeholder with rank 0.\n",
    "- Keep probability placeholder named \"keep_prob\" using the TF Placeholder name parameter with rank 0."
   ]
  },
  {
   "cell_type": "code",
   "execution_count": 10,
   "metadata": {},
   "outputs": [
    {
     "name": "stdout",
     "output_type": "stream",
     "text": [
      "Tests Passed\n"
     ]
    }
   ],
   "source": [
    "def model_inputs():\n",
    "\n",
    "    # Placeholders\n",
    "    input_data = tf.placeholder(tf.int32, [None, None], name='input')\n",
    "    targets = tf.placeholder(tf.int32, [None, None])\n",
    "    lr = tf.placeholder(tf.float32)\n",
    "    keep_prob = tf.placeholder(tf.float32, name='keep_prob')\n",
    "    \n",
    "    return input_data, targets, lr, keep_prob\n",
    "\n",
    "# Helper: Function test \n",
    "tests.test_model_inputs(model_inputs)"
   ]
  },
  {
   "cell_type": "markdown",
   "metadata": {},
   "source": [
    "### Process Decoding Input\n",
    "Function `process_decoding_input` to remove the last word id from each batch in `target_data` and concat the GO ID to the beginning of each batch."
   ]
  },
  {
   "cell_type": "code",
   "execution_count": 11,
   "metadata": {},
   "outputs": [
    {
     "name": "stdout",
     "output_type": "stream",
     "text": [
      "Tests Passed\n"
     ]
    }
   ],
   "source": [
    "def process_decoding_input(target_data, target_vocab_to_int, batch_size):\n",
    "\n",
    "    ending = tf.strided_slice(target_data, [0, 0], [batch_size, -1], [1,1])\n",
    "    dec_input = tf.concat([tf.fill([batch_size, 1], target_vocab_to_int['<GO>']), ending],1)\n",
    "    \n",
    "    return dec_input\n",
    "\n",
    "\"\"\"\n",
    "DON'T MODIFY ANYTHING IN THIS CELL THAT IS BELOW THIS LINE\n",
    "\"\"\"\n",
    "tests.test_process_decoding_input(process_decoding_input)"
   ]
  },
  {
   "cell_type": "markdown",
   "metadata": {},
   "source": [
    "### Encoding\n",
    "`encoding_layer()` to create a Encoder RNN layer using [`tf.nn.dynamic_rnn()`](https://www.tensorflow.org/api_docs/python/tf/nn/dynamic_rnn)."
   ]
  },
  {
   "cell_type": "code",
   "execution_count": 12,
   "metadata": {},
   "outputs": [
    {
     "name": "stdout",
     "output_type": "stream",
     "text": [
      "Tests Passed\n"
     ]
    }
   ],
   "source": [
    "def encoding_layer(rnn_inputs, rnn_size, num_layers, keep_prob):\n",
    "\n",
    "    # Encoding layer\n",
    "    cell = tf.contrib.rnn.BasicLSTMCell(rnn_size)\n",
    "    drop = tf.contrib.rnn.DropoutWrapper(cell, output_keep_prob=keep_prob)\n",
    "    MultiCell = tf.contrib.rnn.MultiRNNCell([drop] * num_layers)\n",
    "    enc_output, enc_state = tf.nn.dynamic_rnn(MultiCell, rnn_inputs, dtype=tf.float32)\n",
    "    \n",
    "    return enc_state\n",
    "\n",
    "# Helper: Function test\n",
    "tests.test_encoding_layer(encoding_layer)"
   ]
  },
  {
   "cell_type": "markdown",
   "metadata": {},
   "source": [
    "### Decoding - Training\n",
    "Training logits using [`tf.contrib.seq2seq.simple_decoder_fn_train()`](https://www.tensorflow.org/versions/r1.0/api_docs/python/tf/contrib/seq2seq/simple_decoder_fn_train) and [`tf.contrib.seq2seq.dynamic_rnn_decoder()`](https://www.tensorflow.org/versions/r1.0/api_docs/python/tf/contrib/seq2seq/dynamic_rnn_decoder). "
   ]
  },
  {
   "cell_type": "code",
   "execution_count": 15,
   "metadata": {},
   "outputs": [
    {
     "name": "stdout",
     "output_type": "stream",
     "text": [
      "Tests Passed\n"
     ]
    }
   ],
   "source": [
    "def decoding_layer_train(encoder_state, dec_cell, dec_embed_input, sequence_length, decoding_scope,\n",
    "                         output_fn, keep_prob):\n",
    "\n",
    "    # Decoding layer train\n",
    "    train_decoder = tf.contrib.seq2seq.simple_decoder_fn_train(encoder_state)\n",
    "    train_pred, _, _ = tf.contrib.seq2seq.dynamic_rnn_decoder(dec_cell, train_decoder, dec_embed_input, sequence_length, \n",
    "                                                             scope = decoding_scope)\n",
    "    # Train logits\n",
    "    train_logits = tf.nn.dropout(train_pred, keep_prob=keep_prob)\n",
    "    train_logits = output_fn(train_logits)\n",
    "    \n",
    "    return train_logits\n",
    "\n",
    "\n",
    "# Helper: Function test\n",
    "tests.test_decoding_layer_train(decoding_layer_train)"
   ]
  },
  {
   "cell_type": "markdown",
   "metadata": {},
   "source": [
    "### Decoding - Inference\n",
    "Inference logits using [`tf.contrib.seq2seq.simple_decoder_fn_inference()`](https://www.tensorflow.org/versions/r1.0/api_docs/python/tf/contrib/seq2seq/simple_decoder_fn_inference) and [`tf.contrib.seq2seq.dynamic_rnn_decoder()`](https://www.tensorflow.org/versions/r1.0/api_docs/python/tf/contrib/seq2seq/dynamic_rnn_decoder). "
   ]
  },
  {
   "cell_type": "code",
   "execution_count": 14,
   "metadata": {},
   "outputs": [
    {
     "name": "stdout",
     "output_type": "stream",
     "text": [
      "Tests Passed\n"
     ]
    }
   ],
   "source": [
    "def decoding_layer_infer(encoder_state, dec_cell, dec_embeddings, start_of_sequence_id, end_of_sequence_id,\n",
    "                         maximum_length, vocab_size, decoding_scope, output_fn, keep_prob):\n",
    "    \n",
    "    # Decoding layer inference\n",
    "    num_decoder_symbols = vocab_size\n",
    "    infer_decoder_fn = tf.contrib.seq2seq.simple_decoder_fn_inference(output_fn, encoder_state, dec_embeddings,\n",
    "                                                                     start_of_sequence_id, end_of_sequence_id,\n",
    "                                                                     maximum_length, num_decoder_symbols)\n",
    "    # Inference logits\n",
    "    inference_logits, _, _ = tf.contrib.seq2seq.dynamic_rnn_decoder(dec_cell, infer_decoder_fn, scope=decoding_scope)\n",
    "    \n",
    "    return inference_logits\n",
    "\n",
    "\n",
    "# Helper: Function test\n",
    "tests.test_decoding_layer_infer(decoding_layer_infer)"
   ]
  },
  {
   "cell_type": "markdown",
   "metadata": {},
   "source": [
    "### Build the Decoding Layer\n",
    "`decoding_layer()` to create a Decoder RNN layer.\n",
    "\n",
    "- Create RNN cell for decoding using `rnn_size` and `num_layers`.\n",
    "- Create the output fuction using [`lambda`](https://docs.python.org/3/tutorial/controlflow.html#lambda-expressions) to transform it's input, logits, to class logits.\n",
    "- Use the your `decoding_layer_train(encoder_state, dec_cell, dec_embed_input, sequence_length, decoding_scope, output_fn, keep_prob)` function to get the training logits.\n",
    "- Use your `decoding_layer_infer(encoder_state, dec_cell, dec_embeddings, start_of_sequence_id, end_of_sequence_id, maximum_length, vocab_size, decoding_scope, output_fn, keep_prob)` function to get the inference logits.\n",
    "\n",
    "Share variables between training and inference with [tf.variable_scope](https://www.tensorflow.org/api_docs/python/tf/variable_scope)."
   ]
  },
  {
   "cell_type": "code",
   "execution_count": 16,
   "metadata": {},
   "outputs": [
    {
     "name": "stdout",
     "output_type": "stream",
     "text": [
      "Tests Passed\n"
     ]
    }
   ],
   "source": [
    "def decoding_layer(dec_embed_input, dec_embeddings, encoder_state, vocab_size, sequence_length, rnn_size,\n",
    "                   num_layers, target_vocab_to_int, keep_prob):\n",
    "\n",
    "    # Decoding layer\n",
    "    start_of_sequence_id = target_vocab_to_int['<GO>']\n",
    "    end_of_sequence_id = target_vocab_to_int['<EOS>']\n",
    "    \n",
    "    lstm = tf.contrib.rnn.BasicLSTMCell(rnn_size)\n",
    "    cell = tf.contrib.rnn.MultiRNNCell([lstm]*num_layers)\n",
    "    cell = tf.contrib.rnn.DropoutWrapper(cell, output_keep_prob=keep_prob)\n",
    "    \n",
    "    \n",
    "    # Output function with lambda operator\n",
    "    output_fn = lambda x: tf.contrib.layers.fully_connected(x, vocab_size, None, scope=decoding_scope) \n",
    "    \n",
    "    # Share the variables\n",
    "    with tf.variable_scope('decoding') as decoding_scope:    \n",
    "        training_logits = decoding_layer_train(encoder_state, cell, dec_embed_input, sequence_length, \n",
    "                                                decoding_scope, output_fn, keep_prob)\n",
    "        \n",
    "    decoding_scope.reuse_variables()\n",
    "\n",
    "    inference_logits = decoding_layer_infer(encoder_state, cell, dec_embeddings, start_of_sequence_id, \n",
    "                                                end_of_sequence_id, sequence_length, \n",
    "                                                vocab_size, decoding_scope, output_fn, keep_prob)   \n",
    "        \n",
    "    return training_logits, inference_logits\n",
    "\n",
    "\n",
    "# Helper: Function test\n",
    "tests.test_decoding_layer(decoding_layer)"
   ]
  },
  {
   "cell_type": "markdown",
   "metadata": {},
   "source": [
    "### Build the Neural Network\n",
    "Build the pipeline:\n",
    "\n",
    "- Apply embedding to the input data for the encoder.\n",
    "- Encode the input using your `encoding_layer(rnn_inputs, rnn_size, num_layers, keep_prob)`.\n",
    "- Process target data using your `process_decoding_input(target_data, target_vocab_to_int, batch_size)` function.\n",
    "- Apply embedding to the target data for the decoder.\n",
    "- Decode the encoded input using your `decoding_layer(dec_embed_input, dec_embeddings, encoder_state, vocab_size, sequence_length, rnn_size, num_layers, target_vocab_to_int, keep_prob)`."
   ]
  },
  {
   "cell_type": "code",
   "execution_count": 18,
   "metadata": {},
   "outputs": [
    {
     "name": "stdout",
     "output_type": "stream",
     "text": [
      "Tests Passed\n"
     ]
    }
   ],
   "source": [
    "def seq2seq_model(input_data, target_data, keep_prob, batch_size, sequence_length, source_vocab_size, target_vocab_size,\n",
    "                  enc_embedding_size, dec_embedding_size, rnn_size, num_layers, target_vocab_to_int):\n",
    "\n",
    "    # Sequence 2 sequence NN pipeline\n",
    "    enc_embed_input = tf.contrib.layers.embed_sequence(input_data, source_vocab_size, enc_embedding_size)\n",
    "    encoder_state = encoding_layer(enc_embed_input, rnn_size, num_layers, keep_prob)\n",
    "    \n",
    "    decoding_input = process_decoding_input(target_data, target_vocab_to_int, batch_size)\n",
    "    \n",
    "    dec_embeddings = tf.Variable(tf.random_uniform([target_vocab_size, dec_embedding_size]))\n",
    "    dec_embed_input = tf.nn.embedding_lookup(dec_embeddings, decoding_input)\n",
    "    \n",
    "    train, infer = decoding_layer(dec_embed_input, dec_embeddings, encoder_state, target_vocab_size, sequence_length, \n",
    "                                   rnn_size, num_layers, target_vocab_to_int, keep_prob)\n",
    "    return (train, infer)\n",
    "\n",
    "\n",
    "# Helper: Function test\n",
    "tests.test_seq2seq_model(seq2seq_model)"
   ]
  },
  {
   "cell_type": "markdown",
   "metadata": {},
   "source": [
    "## Neural Network Training\n",
    "### Hyperparameters\n",
    "\n",
    "- Set `epochs` to the number of epochs.\n",
    "- Set `batch_size` to the batch size.\n",
    "- Set `rnn_size` to the size of the RNNs.\n",
    "- Set `num_layers` to the number of layers.\n",
    "- Set `encoding_embedding_size` to the size of the embedding for the encoder.\n",
    "- Set `decoding_embedding_size` to the size of the embedding for the decoder.\n",
    "- Set `learning_rate` to the learning rate.\n",
    "- Set `keep_probability` to the Dropout keep probability"
   ]
  },
  {
   "cell_type": "code",
   "execution_count": 19,
   "metadata": {
    "collapsed": true
   },
   "outputs": [],
   "source": [
    "# Number of epochs\n",
    "epochs = 5\n",
    "# Batch size\n",
    "batch_size = 512\n",
    "# RNN size\n",
    "rnn_size = 130\n",
    "# Number of layers\n",
    "num_layers = 2\n",
    "# Embedding size\n",
    "encoding_embedding_size = 200\n",
    "decoding_embedding_size = 200\n",
    "# Learning rate\n",
    "learning_rate = 0.01\n",
    "# Dropout keep probability\n",
    "keep_probability = 0.5"
   ]
  },
  {
   "cell_type": "markdown",
   "metadata": {},
   "source": [
    "### Build the Graph\n",
    "Build the graph using the neural network."
   ]
  },
  {
   "cell_type": "code",
   "execution_count": 20,
   "metadata": {
    "collapsed": true
   },
   "outputs": [],
   "source": [
    "\n",
    "save_path = 'checkpoints/dev'\n",
    "(source_int_text, target_int_text), (source_vocab_to_int, target_vocab_to_int), _ = helper.load_preprocess()\n",
    "max_source_sentence_length = max([len(sentence) for sentence in source_int_text])\n",
    "\n",
    "# Graph build-up\n",
    "train_graph = tf.Graph()\n",
    "with train_graph.as_default():\n",
    "    input_data, targets, lr, keep_prob = model_inputs()\n",
    "    sequence_length = tf.placeholder_with_default(max_source_sentence_length, None, name='sequence_length')\n",
    "    input_shape = tf.shape(input_data)\n",
    "    \n",
    "    train_logits, inference_logits = seq2seq_model(\n",
    "        tf.reverse(input_data, [-1]), targets, keep_prob, batch_size, sequence_length, len(source_vocab_to_int), len(target_vocab_to_int),\n",
    "        encoding_embedding_size, decoding_embedding_size, rnn_size, num_layers, target_vocab_to_int)\n",
    "\n",
    "    tf.identity(inference_logits, 'logits')\n",
    "    with tf.name_scope(\"optimization\"):\n",
    "        # Loss function\n",
    "        cost = tf.contrib.seq2seq.sequence_loss(\n",
    "            train_logits,\n",
    "            targets,\n",
    "            tf.ones([input_shape[0], sequence_length]))\n",
    "\n",
    "        # Optimizer\n",
    "        optimizer = tf.train.AdamOptimizer(lr)\n",
    "\n",
    "        # Gradient Clipping\n",
    "        gradients = optimizer.compute_gradients(cost)\n",
    "        capped_gradients = [(tf.clip_by_value(grad, -1., 1.), var) for grad, var in gradients if grad is not None]\n",
    "        train_op = optimizer.apply_gradients(capped_gradients)"
   ]
  },
  {
   "cell_type": "markdown",
   "metadata": {},
   "source": [
    "### Train\n",
    "Network training."
   ]
  },
  {
   "cell_type": "code",
   "execution_count": 23,
   "metadata": {
    "scrolled": true
   },
   "outputs": [
    {
     "name": "stdout",
     "output_type": "stream",
     "text": [
      "Epoch   0 Batch    0/269 - Train Accuracy:  0.242, Validation Accuracy:  0.310, Loss:  5.873\n",
      "Epoch   0 Batch   10/269 - Train Accuracy:  0.292, Validation Accuracy:  0.359, Loss:  3.446\n",
      "Epoch   0 Batch   20/269 - Train Accuracy:  0.363, Validation Accuracy:  0.419, Loss:  2.901\n",
      "Epoch   0 Batch   30/269 - Train Accuracy:  0.438, Validation Accuracy:  0.468, Loss:  2.562\n",
      "Epoch   0 Batch   40/269 - Train Accuracy:  0.453, Validation Accuracy:  0.496, Loss:  2.399\n",
      "Epoch   0 Batch   50/269 - Train Accuracy:  0.470, Validation Accuracy:  0.514, Loss:  2.117\n",
      "Epoch   0 Batch   60/269 - Train Accuracy:  0.482, Validation Accuracy:  0.491, Loss:  1.729\n",
      "Epoch   0 Batch   70/269 - Train Accuracy:  0.430, Validation Accuracy:  0.440, Loss:  1.512\n",
      "Epoch   0 Batch   80/269 - Train Accuracy:  0.432, Validation Accuracy:  0.439, Loss:  1.297\n",
      "Epoch   0 Batch   90/269 - Train Accuracy:  0.415, Validation Accuracy:  0.473, Loss:  1.269\n",
      "Epoch   0 Batch  100/269 - Train Accuracy:  0.452, Validation Accuracy:  0.474, Loss:  1.086\n",
      "Epoch   0 Batch  110/269 - Train Accuracy:  0.471, Validation Accuracy:  0.474, Loss:  1.019\n",
      "Epoch   0 Batch  120/269 - Train Accuracy:  0.508, Validation Accuracy:  0.538, Loss:  0.998\n",
      "Epoch   0 Batch  130/269 - Train Accuracy:  0.520, Validation Accuracy:  0.584, Loss:  0.957\n",
      "Epoch   0 Batch  140/269 - Train Accuracy:  0.591, Validation Accuracy:  0.599, Loss:  0.876\n",
      "Epoch   0 Batch  150/269 - Train Accuracy:  0.581, Validation Accuracy:  0.601, Loss:  0.833\n",
      "Epoch   0 Batch  160/269 - Train Accuracy:  0.608, Validation Accuracy:  0.618, Loss:  0.813\n",
      "Epoch   0 Batch  170/269 - Train Accuracy:  0.618, Validation Accuracy:  0.625, Loss:  0.779\n",
      "Epoch   0 Batch  180/269 - Train Accuracy:  0.629, Validation Accuracy:  0.637, Loss:  0.741\n",
      "Epoch   0 Batch  190/269 - Train Accuracy:  0.630, Validation Accuracy:  0.639, Loss:  0.710\n",
      "Epoch   0 Batch  200/269 - Train Accuracy:  0.633, Validation Accuracy:  0.651, Loss:  0.737\n",
      "Epoch   0 Batch  210/269 - Train Accuracy:  0.646, Validation Accuracy:  0.646, Loss:  0.673\n",
      "Epoch   0 Batch  220/269 - Train Accuracy:  0.642, Validation Accuracy:  0.662, Loss:  0.634\n",
      "Epoch   0 Batch  230/269 - Train Accuracy:  0.663, Validation Accuracy:  0.675, Loss:  0.655\n",
      "Epoch   0 Batch  240/269 - Train Accuracy:  0.687, Validation Accuracy:  0.681, Loss:  0.587\n",
      "Epoch   0 Batch  250/269 - Train Accuracy:  0.666, Validation Accuracy:  0.682, Loss:  0.631\n",
      "Epoch   0 Batch  260/269 - Train Accuracy:  0.657, Validation Accuracy:  0.677, Loss:  0.643\n",
      "Epoch   1 Batch    0/269 - Train Accuracy:  0.674, Validation Accuracy:  0.682, Loss:  0.641\n",
      "Epoch   1 Batch   10/269 - Train Accuracy:  0.673, Validation Accuracy:  0.685, Loss:  0.607\n",
      "Epoch   1 Batch   20/269 - Train Accuracy:  0.670, Validation Accuracy:  0.689, Loss:  0.591\n",
      "Epoch   1 Batch   30/269 - Train Accuracy:  0.710, Validation Accuracy:  0.701, Loss:  0.553\n",
      "Epoch   1 Batch   40/269 - Train Accuracy:  0.690, Validation Accuracy:  0.698, Loss:  0.568\n",
      "Epoch   1 Batch   50/269 - Train Accuracy:  0.693, Validation Accuracy:  0.717, Loss:  0.563\n",
      "Epoch   1 Batch   60/269 - Train Accuracy:  0.714, Validation Accuracy:  0.711, Loss:  0.507\n",
      "Epoch   1 Batch   70/269 - Train Accuracy:  0.721, Validation Accuracy:  0.714, Loss:  0.508\n",
      "Epoch   1 Batch   80/269 - Train Accuracy:  0.736, Validation Accuracy:  0.727, Loss:  0.501\n",
      "Epoch   1 Batch   90/269 - Train Accuracy:  0.690, Validation Accuracy:  0.717, Loss:  0.510\n",
      "Epoch   1 Batch  100/269 - Train Accuracy:  0.746, Validation Accuracy:  0.721, Loss:  0.471\n",
      "Epoch   1 Batch  110/269 - Train Accuracy:  0.728, Validation Accuracy:  0.733, Loss:  0.470\n",
      "Epoch   1 Batch  120/269 - Train Accuracy:  0.731, Validation Accuracy:  0.722, Loss:  0.486\n",
      "Epoch   1 Batch  130/269 - Train Accuracy:  0.717, Validation Accuracy:  0.732, Loss:  0.478\n",
      "Epoch   1 Batch  140/269 - Train Accuracy:  0.739, Validation Accuracy:  0.728, Loss:  0.466\n",
      "Epoch   1 Batch  150/269 - Train Accuracy:  0.746, Validation Accuracy:  0.737, Loss:  0.442\n",
      "Epoch   1 Batch  160/269 - Train Accuracy:  0.757, Validation Accuracy:  0.741, Loss:  0.427\n",
      "Epoch   1 Batch  170/269 - Train Accuracy:  0.755, Validation Accuracy:  0.747, Loss:  0.421\n",
      "Epoch   1 Batch  180/269 - Train Accuracy:  0.768, Validation Accuracy:  0.755, Loss:  0.411\n",
      "Epoch   1 Batch  190/269 - Train Accuracy:  0.769, Validation Accuracy:  0.752, Loss:  0.393\n",
      "Epoch   1 Batch  200/269 - Train Accuracy:  0.769, Validation Accuracy:  0.767, Loss:  0.411\n",
      "Epoch   1 Batch  210/269 - Train Accuracy:  0.783, Validation Accuracy:  0.768, Loss:  0.388\n",
      "Epoch   1 Batch  220/269 - Train Accuracy:  0.772, Validation Accuracy:  0.783, Loss:  0.368\n",
      "Epoch   1 Batch  230/269 - Train Accuracy:  0.771, Validation Accuracy:  0.774, Loss:  0.379\n",
      "Epoch   1 Batch  240/269 - Train Accuracy:  0.810, Validation Accuracy:  0.794, Loss:  0.340\n",
      "Epoch   1 Batch  250/269 - Train Accuracy:  0.800, Validation Accuracy:  0.800, Loss:  0.367\n",
      "Epoch   1 Batch  260/269 - Train Accuracy:  0.789, Validation Accuracy:  0.794, Loss:  0.372\n",
      "Epoch   2 Batch    0/269 - Train Accuracy:  0.812, Validation Accuracy:  0.800, Loss:  0.363\n",
      "Epoch   2 Batch   10/269 - Train Accuracy:  0.812, Validation Accuracy:  0.802, Loss:  0.346\n",
      "Epoch   2 Batch   20/269 - Train Accuracy:  0.809, Validation Accuracy:  0.819, Loss:  0.354\n",
      "Epoch   2 Batch   30/269 - Train Accuracy:  0.804, Validation Accuracy:  0.791, Loss:  0.332\n",
      "Epoch   2 Batch   40/269 - Train Accuracy:  0.800, Validation Accuracy:  0.818, Loss:  0.356\n",
      "Epoch   2 Batch   50/269 - Train Accuracy:  0.802, Validation Accuracy:  0.817, Loss:  0.345\n",
      "Epoch   2 Batch   60/269 - Train Accuracy:  0.812, Validation Accuracy:  0.820, Loss:  0.311\n",
      "Epoch   2 Batch   70/269 - Train Accuracy:  0.840, Validation Accuracy:  0.826, Loss:  0.321\n",
      "Epoch   2 Batch   80/269 - Train Accuracy:  0.822, Validation Accuracy:  0.824, Loss:  0.292\n",
      "Epoch   2 Batch   90/269 - Train Accuracy:  0.812, Validation Accuracy:  0.829, Loss:  0.325\n",
      "Epoch   2 Batch  100/269 - Train Accuracy:  0.842, Validation Accuracy:  0.834, Loss:  0.290\n",
      "Epoch   2 Batch  110/269 - Train Accuracy:  0.828, Validation Accuracy:  0.839, Loss:  0.284\n",
      "Epoch   2 Batch  120/269 - Train Accuracy:  0.830, Validation Accuracy:  0.837, Loss:  0.300\n",
      "Epoch   2 Batch  130/269 - Train Accuracy:  0.821, Validation Accuracy:  0.836, Loss:  0.304\n",
      "Epoch   2 Batch  140/269 - Train Accuracy:  0.847, Validation Accuracy:  0.854, Loss:  0.293\n",
      "Epoch   2 Batch  150/269 - Train Accuracy:  0.854, Validation Accuracy:  0.847, Loss:  0.277\n",
      "Epoch   2 Batch  160/269 - Train Accuracy:  0.830, Validation Accuracy:  0.849, Loss:  0.269\n",
      "Epoch   2 Batch  170/269 - Train Accuracy:  0.848, Validation Accuracy:  0.851, Loss:  0.264\n",
      "Epoch   2 Batch  180/269 - Train Accuracy:  0.849, Validation Accuracy:  0.854, Loss:  0.269\n",
      "Epoch   2 Batch  190/269 - Train Accuracy:  0.863, Validation Accuracy:  0.869, Loss:  0.263\n",
      "Epoch   2 Batch  200/269 - Train Accuracy:  0.846, Validation Accuracy:  0.852, Loss:  0.266\n",
      "Epoch   2 Batch  210/269 - Train Accuracy:  0.856, Validation Accuracy:  0.852, Loss:  0.240\n",
      "Epoch   2 Batch  220/269 - Train Accuracy:  0.866, Validation Accuracy:  0.853, Loss:  0.239\n",
      "Epoch   2 Batch  230/269 - Train Accuracy:  0.860, Validation Accuracy:  0.862, Loss:  0.249\n",
      "Epoch   2 Batch  240/269 - Train Accuracy:  0.873, Validation Accuracy:  0.857, Loss:  0.224\n",
      "Epoch   2 Batch  250/269 - Train Accuracy:  0.881, Validation Accuracy:  0.865, Loss:  0.239\n",
      "Epoch   2 Batch  260/269 - Train Accuracy:  0.863, Validation Accuracy:  0.864, Loss:  0.254\n",
      "Epoch   3 Batch    0/269 - Train Accuracy:  0.873, Validation Accuracy:  0.860, Loss:  0.247\n",
      "Epoch   3 Batch   10/269 - Train Accuracy:  0.867, Validation Accuracy:  0.866, Loss:  0.229\n",
      "Epoch   3 Batch   20/269 - Train Accuracy:  0.864, Validation Accuracy:  0.865, Loss:  0.242\n",
      "Epoch   3 Batch   30/269 - Train Accuracy:  0.874, Validation Accuracy:  0.859, Loss:  0.218\n",
      "Epoch   3 Batch   40/269 - Train Accuracy:  0.862, Validation Accuracy:  0.886, Loss:  0.228\n",
      "Epoch   3 Batch   50/269 - Train Accuracy:  0.864, Validation Accuracy:  0.870, Loss:  0.231\n",
      "Epoch   3 Batch   60/269 - Train Accuracy:  0.881, Validation Accuracy:  0.876, Loss:  0.203\n",
      "Epoch   3 Batch   70/269 - Train Accuracy:  0.872, Validation Accuracy:  0.864, Loss:  0.219\n"
     ]
    },
    {
     "name": "stdout",
     "output_type": "stream",
     "text": [
      "Epoch   3 Batch   80/269 - Train Accuracy:  0.875, Validation Accuracy:  0.872, Loss:  0.200\n",
      "Epoch   3 Batch   90/269 - Train Accuracy:  0.869, Validation Accuracy:  0.881, Loss:  0.223\n",
      "Epoch   3 Batch  100/269 - Train Accuracy:  0.893, Validation Accuracy:  0.875, Loss:  0.203\n",
      "Epoch   3 Batch  110/269 - Train Accuracy:  0.878, Validation Accuracy:  0.879, Loss:  0.193\n",
      "Epoch   3 Batch  120/269 - Train Accuracy:  0.876, Validation Accuracy:  0.879, Loss:  0.202\n",
      "Epoch   3 Batch  130/269 - Train Accuracy:  0.893, Validation Accuracy:  0.881, Loss:  0.212\n",
      "Epoch   3 Batch  140/269 - Train Accuracy:  0.874, Validation Accuracy:  0.881, Loss:  0.210\n",
      "Epoch   3 Batch  150/269 - Train Accuracy:  0.877, Validation Accuracy:  0.890, Loss:  0.194\n",
      "Epoch   3 Batch  160/269 - Train Accuracy:  0.875, Validation Accuracy:  0.877, Loss:  0.198\n",
      "Epoch   3 Batch  170/269 - Train Accuracy:  0.888, Validation Accuracy:  0.894, Loss:  0.194\n",
      "Epoch   3 Batch  180/269 - Train Accuracy:  0.905, Validation Accuracy:  0.904, Loss:  0.179\n",
      "Epoch   3 Batch  190/269 - Train Accuracy:  0.887, Validation Accuracy:  0.900, Loss:  0.182\n",
      "Epoch   3 Batch  200/269 - Train Accuracy:  0.892, Validation Accuracy:  0.899, Loss:  0.192\n",
      "Epoch   3 Batch  210/269 - Train Accuracy:  0.896, Validation Accuracy:  0.900, Loss:  0.171\n",
      "Epoch   3 Batch  220/269 - Train Accuracy:  0.894, Validation Accuracy:  0.891, Loss:  0.171\n",
      "Epoch   3 Batch  230/269 - Train Accuracy:  0.905, Validation Accuracy:  0.907, Loss:  0.174\n",
      "Epoch   3 Batch  240/269 - Train Accuracy:  0.915, Validation Accuracy:  0.909, Loss:  0.167\n",
      "Epoch   3 Batch  250/269 - Train Accuracy:  0.891, Validation Accuracy:  0.887, Loss:  0.175\n",
      "Epoch   3 Batch  260/269 - Train Accuracy:  0.887, Validation Accuracy:  0.890, Loss:  0.181\n",
      "Epoch   4 Batch    0/269 - Train Accuracy:  0.912, Validation Accuracy:  0.899, Loss:  0.187\n",
      "Epoch   4 Batch   10/269 - Train Accuracy:  0.895, Validation Accuracy:  0.894, Loss:  0.160\n",
      "Epoch   4 Batch   20/269 - Train Accuracy:  0.904, Validation Accuracy:  0.897, Loss:  0.164\n",
      "Epoch   4 Batch   30/269 - Train Accuracy:  0.911, Validation Accuracy:  0.895, Loss:  0.159\n",
      "Epoch   4 Batch   40/269 - Train Accuracy:  0.901, Validation Accuracy:  0.901, Loss:  0.169\n",
      "Epoch   4 Batch   50/269 - Train Accuracy:  0.885, Validation Accuracy:  0.903, Loss:  0.179\n",
      "Epoch   4 Batch   60/269 - Train Accuracy:  0.915, Validation Accuracy:  0.904, Loss:  0.156\n",
      "Epoch   4 Batch   70/269 - Train Accuracy:  0.907, Validation Accuracy:  0.903, Loss:  0.172\n",
      "Epoch   4 Batch   80/269 - Train Accuracy:  0.902, Validation Accuracy:  0.900, Loss:  0.152\n",
      "Epoch   4 Batch   90/269 - Train Accuracy:  0.897, Validation Accuracy:  0.900, Loss:  0.157\n",
      "Epoch   4 Batch  100/269 - Train Accuracy:  0.914, Validation Accuracy:  0.907, Loss:  0.151\n",
      "Epoch   4 Batch  110/269 - Train Accuracy:  0.908, Validation Accuracy:  0.901, Loss:  0.142\n",
      "Epoch   4 Batch  120/269 - Train Accuracy:  0.905, Validation Accuracy:  0.909, Loss:  0.163\n",
      "Epoch   4 Batch  130/269 - Train Accuracy:  0.915, Validation Accuracy:  0.905, Loss:  0.166\n",
      "Epoch   4 Batch  140/269 - Train Accuracy:  0.900, Validation Accuracy:  0.907, Loss:  0.159\n",
      "Epoch   4 Batch  150/269 - Train Accuracy:  0.904, Validation Accuracy:  0.908, Loss:  0.148\n",
      "Epoch   4 Batch  160/269 - Train Accuracy:  0.898, Validation Accuracy:  0.906, Loss:  0.154\n",
      "Epoch   4 Batch  170/269 - Train Accuracy:  0.907, Validation Accuracy:  0.905, Loss:  0.139\n",
      "Epoch   4 Batch  180/269 - Train Accuracy:  0.917, Validation Accuracy:  0.919, Loss:  0.143\n",
      "Epoch   4 Batch  190/269 - Train Accuracy:  0.904, Validation Accuracy:  0.914, Loss:  0.146\n",
      "Epoch   4 Batch  200/269 - Train Accuracy:  0.910, Validation Accuracy:  0.907, Loss:  0.138\n",
      "Epoch   4 Batch  210/269 - Train Accuracy:  0.892, Validation Accuracy:  0.910, Loss:  0.138\n",
      "Epoch   4 Batch  220/269 - Train Accuracy:  0.902, Validation Accuracy:  0.911, Loss:  0.142\n",
      "Epoch   4 Batch  230/269 - Train Accuracy:  0.922, Validation Accuracy:  0.916, Loss:  0.138\n",
      "Epoch   4 Batch  240/269 - Train Accuracy:  0.928, Validation Accuracy:  0.914, Loss:  0.130\n",
      "Epoch   4 Batch  250/269 - Train Accuracy:  0.925, Validation Accuracy:  0.927, Loss:  0.135\n",
      "Epoch   4 Batch  260/269 - Train Accuracy:  0.905, Validation Accuracy:  0.922, Loss:  0.140\n",
      "Model Trained and Saved\n"
     ]
    }
   ],
   "source": [
    "import time\n",
    "\n",
    "def get_accuracy(target, logits):\n",
    "    \"\"\"\n",
    "    Calculate accuracy\n",
    "    \"\"\"\n",
    "    max_seq = max(target.shape[1], logits.shape[1])\n",
    "    if max_seq - target.shape[1]:\n",
    "        target = np.pad(\n",
    "            target,\n",
    "            [(0,0),(0,max_seq - target.shape[1])],\n",
    "            'constant')\n",
    "    if max_seq - logits.shape[1]:\n",
    "        logits = np.pad(\n",
    "            logits,\n",
    "            [(0,0),(0,max_seq - logits.shape[1]), (0,0)],\n",
    "            'constant')\n",
    "\n",
    "    return np.mean(np.equal(target, np.argmax(logits, 2)))\n",
    "\n",
    "train_source = source_int_text[batch_size:]\n",
    "train_target = target_int_text[batch_size:]\n",
    "\n",
    "valid_source = helper.pad_sentence_batch(source_int_text[:batch_size])\n",
    "valid_target = helper.pad_sentence_batch(target_int_text[:batch_size])\n",
    "\n",
    "with tf.Session(graph=train_graph) as sess:\n",
    "    sess.run(tf.global_variables_initializer())\n",
    "\n",
    "    for epoch_i in range(epochs):\n",
    "        for batch_i, (source_batch, target_batch) in enumerate(\n",
    "                helper.batch_data(train_source, train_target, batch_size)):\n",
    "            start_time = time.time()\n",
    "            \n",
    "            _, loss = sess.run(\n",
    "                [train_op, cost],\n",
    "                {input_data: source_batch,\n",
    "                 targets: target_batch,\n",
    "                 lr: learning_rate,\n",
    "                 sequence_length: target_batch.shape[1],\n",
    "                 keep_prob: keep_probability})\n",
    "            \n",
    "            batch_train_logits = sess.run(\n",
    "                inference_logits,\n",
    "                {input_data: source_batch, keep_prob: 1.0})\n",
    "            batch_valid_logits = sess.run(\n",
    "                inference_logits,\n",
    "                {input_data: valid_source, keep_prob: 1.0})\n",
    "                \n",
    "            train_acc = get_accuracy(target_batch, batch_train_logits)\n",
    "            valid_acc = get_accuracy(np.array(valid_target), batch_valid_logits)\n",
    "            end_time = time.time()\n",
    "            if batch_i % 10 == 0:\n",
    "                print('Epoch {:>3} Batch {:>4}/{} - Train Accuracy: {:>6.3f}, Validation Accuracy: {:>6.3f}, Loss: {:>6.3f}'\n",
    "                      .format(epoch_i, batch_i, len(source_int_text) // batch_size, train_acc, valid_acc, loss))\n",
    "\n",
    "    # Save Model\n",
    "    saver = tf.train.Saver()\n",
    "    saver.save(sess, save_path)\n",
    "    print('Model Trained and Saved')"
   ]
  },
  {
   "cell_type": "markdown",
   "metadata": {},
   "source": [
    "### Save Parameters\n",
    "Save the `batch_size` and `save_path` parameters for inference."
   ]
  },
  {
   "cell_type": "code",
   "execution_count": 24,
   "metadata": {
    "collapsed": true
   },
   "outputs": [],
   "source": [
    "# Save parameters for checkpoint\n",
    "helper.save_params(save_path)"
   ]
  },
  {
   "cell_type": "markdown",
   "metadata": {},
   "source": [
    "# Checkpoint"
   ]
  },
  {
   "cell_type": "code",
   "execution_count": 25,
   "metadata": {
    "collapsed": true
   },
   "outputs": [],
   "source": [
    "import tensorflow as tf\n",
    "import numpy as np\n",
    "import helper\n",
    "import problem_unittests as tests\n",
    "\n",
    "_, (source_vocab_to_int, target_vocab_to_int), (source_int_to_vocab, target_int_to_vocab) = helper.load_preprocess()\n",
    "load_path = helper.load_params()"
   ]
  },
  {
   "cell_type": "markdown",
   "metadata": {},
   "source": [
    "## Sentence to Sequence\n",
    "To feed a sentence into the model for translation, first it needs to be preprocessed. Therefore the function `sentence_to_seq()` is implemented.\n",
    "\n",
    "- Convert the sentence to lowercase\n",
    "- Convert words into ids using `vocab_to_int`\n",
    "- Convert words not in the vocabulary, to the `<UNK>` word id."
   ]
  },
  {
   "cell_type": "code",
   "execution_count": 26,
   "metadata": {},
   "outputs": [
    {
     "name": "stdout",
     "output_type": "stream",
     "text": [
      "Tests Passed\n"
     ]
    }
   ],
   "source": [
    "def sentence_to_seq(sentence, vocab_to_int):\n",
    "\n",
    "    # Sentence to sequence\n",
    "    word_list = [vocab_to_int.get(word, vocab_to_int['<UNK>']) for word in sentence.lower().split()]\n",
    "    \n",
    "    return word_list\n",
    "\n",
    "#Helper: Function test\n",
    "tests.test_sentence_to_seq(sentence_to_seq)"
   ]
  },
  {
   "cell_type": "markdown",
   "metadata": {},
   "source": [
    "## Translate\n",
    "This will translate `translate_sentence` from English to French."
   ]
  },
  {
   "cell_type": "code",
   "execution_count": 27,
   "metadata": {},
   "outputs": [
    {
     "name": "stdout",
     "output_type": "stream",
     "text": [
      "Input\n",
      "  Word Ids:      [5, 9, 10, 184, 205, 63, 208, 88]\n",
      "  English Words: ['he', 'saw', 'a', 'yellow', 'bird', 'in', 'summer', '.']\n",
      "\n",
      "Prediction\n",
      "  Word Ids:      [226, 7, 46, 305, 237, 71, 1]\n",
      "  French Words: ['il', 'a', 'vu', 'une', 'nouvelle', 'en', '<EOS>']\n"
     ]
    }
   ],
   "source": [
    "translate_sentence = 'he saw a yellow bird in summer .'\n",
    "\n",
    "translate_sentence = sentence_to_seq(translate_sentence, source_vocab_to_int)\n",
    "\n",
    "loaded_graph = tf.Graph()\n",
    "with tf.Session(graph=loaded_graph) as sess:\n",
    "    # Load saved model\n",
    "    loader = tf.train.import_meta_graph(load_path + '.meta')\n",
    "    loader.restore(sess, load_path)\n",
    "\n",
    "    input_data = loaded_graph.get_tensor_by_name('input:0')\n",
    "    logits = loaded_graph.get_tensor_by_name('logits:0')\n",
    "    keep_prob = loaded_graph.get_tensor_by_name('keep_prob:0')\n",
    "\n",
    "    translate_logits = sess.run(logits, {input_data: [translate_sentence], keep_prob: 1.0})[0]\n",
    "\n",
    "print('Input')\n",
    "print('  Word Ids:      {}'.format([i for i in translate_sentence]))\n",
    "print('  English Words: {}'.format([source_int_to_vocab[i] for i in translate_sentence]))\n",
    "\n",
    "print('\\nPrediction')\n",
    "print('  Word Ids:      {}'.format([i for i in np.argmax(translate_logits, 1)]))\n",
    "print('  French Words: {}'.format([target_int_to_vocab[i] for i in np.argmax(translate_logits, 1)]))"
   ]
  },
  {
   "cell_type": "markdown",
   "metadata": {},
   "source": [
    "## Discussion: Imperfect Translation\n",
    "You might notice that some sentences translate better than others.  Since the dataset you're using only has a vocabulary of 227 English words of the thousands that you use, you're only going to see good results using these words.  Additionally, the translations in this data set were made by Google translate, so the translations themselves aren't particularly good.  (We apologize to the French speakers out there!) Thankfully, for this project, you don't need a perfect translation. However, if you want to create a better translation model, you'll need better data.\n",
    "\n",
    "You can train on the [WMT10 French-English corpus](http://www.statmt.org/wmt10/training-giga-fren.tar).  This dataset has more vocabulary and richer in topics discussed.  However, this will take you days to train, so make sure you've a GPU and the neural network is performing well on dataset we provided.  Just make sure you play with the WMT10 corpus after you've submitted this project.\n",
    "## Submitting This Project\n",
    "When submitting this project, make sure to run all the cells before saving the notebook. Save the notebook file as \"dlnd_language_translation.ipynb\" and save it as a HTML file under \"File\" -> \"Download as\". Include the \"helper.py\" and \"problem_unittests.py\" files in your submission."
   ]
  },
  {
   "cell_type": "code",
   "execution_count": null,
   "metadata": {
    "collapsed": true
   },
   "outputs": [],
   "source": []
  }
 ],
 "metadata": {
  "kernelspec": {
   "display_name": "Python 3",
   "language": "python",
   "name": "python3"
  },
  "language_info": {
   "codemirror_mode": {
    "name": "ipython",
    "version": 3
   },
   "file_extension": ".py",
   "mimetype": "text/x-python",
   "name": "python",
   "nbconvert_exporter": "python",
   "pygments_lexer": "ipython3",
   "version": "3.5.3"
  }
 },
 "nbformat": 4,
 "nbformat_minor": 1
}
